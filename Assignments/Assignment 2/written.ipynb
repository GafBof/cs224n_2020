{
 "cells": [
  {
   "cell_type": "markdown",
   "metadata": {},
   "source": [
    "(a) As described in the doc, $\\boldsymbol{y}$ is a one-hot vector with a 1 for the true outside word $o$, that means $y_i$ is 1 if and only if $i == o$. so the proof could be below:\n",
    "\n",
    "$-\\sum_{w\\in Vocab}y_w\\log(\\hat{y}_w) \\\\= -[y_1\\log(\\hat{y}_1) + \\cdots + y_o\\log(\\hat{y}_o) + \\cdots + y_w\\log(\\hat{y}_w)] \\\\= -y_o\\log(\\hat{y}_o) \\\\= -\\log(\\hat{y}_o) \\\\= -\\log \\mathrm{P}(O = o | C = c)$"
   ]
  },
  {
   "cell_type": "markdown",
   "metadata": {},
   "source": [
    "(b) $\\frac{\\partial J}{\\partial v_c} = \\frac{\\partial J}{\\partial \\theta} \\frac{\\partial \\theta}{\\partial v_c} = (\\hat{y} - y)^T \\frac{\\partial U^Tv_c}{\\partial v_c} = U(\\hat{y} - y)$"
   ]
  },
  {
   "cell_type": "markdown",
   "metadata": {},
   "source": [
    "(c) $\\frac{\\partial J}{\\partial u_{w}}=\\begin{cases}\n",
    " & (\\hat{y}_{w}-1)v_{c}\\text{ if } w=0 \\\\ \n",
    " & \\hat{y}_{w}v_{c}\\text{ if } w\\neq 0 \n",
    "\\end{cases}$"
   ]
  },
  {
   "cell_type": "code",
   "execution_count": null,
   "metadata": {},
   "outputs": [],
   "source": []
  }
 ],
 "metadata": {
  "language_info": {
   "codemirror_mode": {
    "name": "ipython",
    "version": 3
   },
   "file_extension": ".py",
   "mimetype": "text/x-python",
   "name": "python",
   "nbconvert_exporter": "python",
   "pygments_lexer": "ipython3",
   "version": "3.6.10-final"
  },
  "orig_nbformat": 2,
  "kernelspec": {
   "name": "python361064bitaicondabbf1184d5db54703959bd9937dcc7060",
   "display_name": "Python 3.6.10 64-bit ('ai': conda)"
  }
 },
 "nbformat": 4,
 "nbformat_minor": 2
}